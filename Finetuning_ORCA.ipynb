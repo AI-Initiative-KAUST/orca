{
  "nbformat": 4,
  "nbformat_minor": 0,
  "metadata": {
    "colab": {
      "provenance": []
    },
    "kernelspec": {
      "name": "python3",
      "display_name": "Python 3"
    },
    "language_info": {
      "name": "python"
    },
    "accelerator": "GPU",
    "gpuClass": "standard"
  },
  "cells": [
    {
      "cell_type": "markdown",
      "source": [
        "#Fin-tunig a model on ORCA\n",
        "<img src=\"https://orca.dlnlp.ai/assets/orca_logo.png\" width=\"50%\"/>\n",
        "\n",
        "**ORCA** is a large-scale Arabic Language Understanding Evaluation Benchmark\n",
        "\n",
        "**Website:** https://orca.dlnlp.ai/"
      ],
      "metadata": {
        "id": "NTY1Uq9FGzeJ"
      }
    },
    {
      "cell_type": "markdown",
      "source": [
        "## Intordction\n",
        "ORCA has 29 tasks that can categorze into three types. Token-level, Text- Cassificaion and Question Answering traniers. In this notebook, we show how to use these trainiers. As examples, we fine-tune `MARBERTv2` on ORCA's tasks for ONLY 3 epochs as well."
      ],
      "metadata": {
        "id": "tfdQOSseIS-8"
      }
    },
    {
      "cell_type": "markdown",
      "source": [
        "##Install Requirments"
      ],
      "metadata": {
        "id": "kVszmWE7IwK5"
      }
    },
    {
      "cell_type": "code",
      "source": [
        "!pip install datasets transformers seqeval accelerate"
      ],
      "metadata": {
        "id": "XlSBq8uvIvV9"
      },
      "execution_count": null,
      "outputs": []
    },
    {
      "cell_type": "markdown",
      "source": [
        "## Download the fine-tuning code"
      ],
      "metadata": {
        "id": "VdALDM6eT8IU"
      }
    },
    {
      "cell_type": "code",
      "source": [
        "!git clone https://github.com/UBC-NLP/orca.git"
      ],
      "metadata": {
        "id": "IDzbJGynT64C",
        "colab": {
          "base_uri": "https://localhost:8080/"
        },
        "outputId": "9ed76768-8f76-47c8-c3a1-8871359a6d05"
      },
      "execution_count": null,
      "outputs": [
        {
          "output_type": "stream",
          "name": "stdout",
          "text": [
            "Cloning into 'orca'...\n",
            "fatal: could not read Username for 'https://github.com': No such device or address\n"
          ]
        }
      ]
    },
{
      "cell_type": "markdown",
      "source": [
        "### Request Access ###
To obtain access to the ORCA benchmark on Huggingface, follow the following steps:
- Login on your Haggingface account

  <img src='https://raw.githubusercontent.com/UBC-NLP/orca/main/orca_request1.png' width='55%'/>
- Request access

  <img src='https://raw.githubusercontent.com/UBC-NLP/orca/main/orca_request2.png' width='55%'/>"
      ],
      "metadata": {
        "id": "VdALDM6eT8IU"
      }
    },
{
      "cell_type": "code",
      "source": [
        "!huggingface-cli login --token 'YOUR_TOKEN'"
      ],
      "metadata": {
        "id": "T6gOH325aEfg",
        "colab": {
          "base_uri": "https://localhost:8080/"
        },
        "outputId": "41e64261-caec-4643-a727-1c93832e9a30"
      },
      "execution_count": null,
      "outputs": [
        
      ]
    },
    {
      "cell_type": "code",
      "source": [
        "%cd /content/orca/fine-tuning_code"
      ],
      "metadata": {
        "id": "T6gOH325aEfg",
        "colab": {
          "base_uri": "https://localhost:8080/"
        },
        "outputId": "41e64261-caec-4643-a727-1c93832e9a30"
      },
      "execution_count": null,
      "outputs": [
        {
          "output_type": "stream",
          "name": "stdout",
          "text": [
            "/content/orca/fine-tuning_code\n"
          ]
        }
      ]
    },
    {
      "cell_type": "markdown",
      "source": [
        "## Fine-tuning a model on token-level taks\n",
        "ORCA has 4 token-level datasets, they are `arabic-ner`, `aqmar-ner`, `msa-pos`, and `dialect-pos'"
      ],
      "metadata": {
        "id": "nnwffR0WKGUU"
      }
    },
    {
      "cell_type": "code",
      "source": [],
      "metadata": {
        "id": "WctLP9MY-hdk"
      },
      "execution_count": null,
      "outputs": []
    },
    {
      "cell_type": "code",
      "source": [
        "task='aqmar-ner' #task should be on of these tasks ['arabic-ner', 'aqmar-ner', 'msa-pos', 'dialect-pos']\n",
        "cache_dir='./cache'\n",
        "le=5e-5\n",
        "batch_size=32\n",
        "model_name='UBC-NLP/ARBERTv2'\n",
        "output_dir='./output/'+task\n",
        "epochs_num=1\n",
        "metric_for_best_model=\"eval_f1\"\n",
        "seed=41\n"
      ],
      "metadata": {
        "id": "xyTBOJ3XCKA6"
      },
      "execution_count": null,
      "outputs": []
    },
    {
      "cell_type": "code",
      "source": [
        "!python run_orca_tokens_trainer.py \\\n",
        "        --dataset_name \"UBC-NLP/orca\" \\\n",
        "        --dataset_config_name $task \\\n",
        "        --cache_dir $cache_dir \\\n",
        "        --learning_rate $le \\\n",
        "        --per_device_train_batch_size $batch_size \\\n",
        "        --per_device_eval_batch_size $batch_size \\\n",
        "        --model_name_or_path  $model_name \\\n",
        "        --output_dir $output_dir \\\n",
        "        --num_train_epochs $epochs_num \\\n",
        "        --do_train \\\n",
        "        --do_eval \\\n",
        "        --do_predict \\\n",
        "        --evaluation_strategy epoch \\\n",
        "        --logging_strategy epoch \\\n",
        "        --save_strategy epoch \\\n",
        "        --load_best_model_at_end \\\n",
        "        --metric_for_best_model $metric_for_best_model \\\n",
        "        --greater_is_better True \\\n",
        "        --save_total_limit 3 \\\n",
        "        --seed $seed --overwrite_output_dir"
      ],
      "metadata": {
        "id": "r7ptuORcM36h"
      },
      "execution_count": null,
      "outputs": []
    },
    {
      "cell_type": "markdown",
      "source": [
        "## Fine-tuning a model on text classification taks\n",
        "ORCA has 24 token-level datasets, they are\n",
        "`sentiment`, `dialect-region`, `dialect-binary`, `dialect-country`, `topic`, `ans-claim`, `machine-generation`,`age`, `gender`, `adult`, `dangerous`, `emotion`,`hate-speech`,`offensive`,`irony`,`sarcasm`,`abusive`, `wsd`, `mq2q`, `ans-stance`, `baly-stance`,`xlni`,`sts`, and `emotion-reg`"
      ],
      "metadata": {
        "id": "xDzBuWs9Se6s"
      }
    },
    {
      "cell_type": "code",
      "source": [
        "task='hate-speech'\n",
        "cache_dir='./cache'\n",
        "le=5e-5\n",
        "batch_size=8\n",
        "model_name='UBC-NLP/ARBERTv2'\n",
        "output_dir='./output5/'+task\n",
        "epochs_num=1\n",
        "metric_for_best_model=\"eval_f1\" # eval_spearmanr is the evaluation matric for these tasks ['sts', 'emotion-reg'], and eval_f1 for the rest.\n",
        "seed=41\n",
        "sq=512"
      ],
      "metadata": {
        "id": "cPtUWJrLYv4N"
      },
      "execution_count": null,
      "outputs": []
    },
    {
      "cell_type": "code",
      "source": [
        "!python run_orca_text_classification_wz_reg.py \\\n",
        "        --dataset_name \"UBC-NLP/orca\" \\\n",
        "        --task_name $task \\\n",
        "        --cache_dir $cache_dir \\\n",
        "        --learning_rate $le \\\n",
        "        --per_device_train_batch_size $batch_size --per_device_eval_batch_size $batch_size \\\n",
        "        --model_name_or_path  $model_name \\\n",
        "        --output_dir $output_dir \\\n",
        "        --num_train_epochs $epochs_num \\\n",
        "        --do_train \\\n",
        "        --do_eval \\\n",
        "        --do_predict \\\n",
        "        --max_seq_length $sq \\\n",
        "        --evaluation_strategy epoch --logging_strategy epoch --save_strategy epoch \\\n",
        "        --load_best_model_at_end --metric_for_best_model $metric_for_best_model --greater_is_better True \\\n",
        "        --save_total_limit 3 --seed $seed --overwrite_output_dir"
      ],
      "metadata": {
        "id": "70FNFWawCaoo"
      },
      "execution_count": null,
      "outputs": []
    },
    {
      "cell_type": "markdown",
      "source": [
        "## Fine-tuning a model on QA task\n",
        "ORCA has one QA task `qa`"
      ],
      "metadata": {
        "id": "XtKFtiKZa59Z"
      }
    },
    {
      "cell_type": "code",
      "source": [
        "task='qa'\n",
        "cache_dir='./cache'\n",
        "le=5e-5\n",
        "model_name='UBC-NLP/MARBERTv2'\n",
        "output_dir='./output/'+task\n",
        "seed=41"
      ],
      "metadata": {
        "id": "njmiL6OCCei7"
      },
      "execution_count": null,
      "outputs": []
    },
    {
      "cell_type": "code",
      "source": [
        "!python run_orca_qa.py \\\n",
        "    --model_name_or_path  $model_name \\\n",
        "    --dataset_name  \"UBC-NLP/orca\" \\\n",
        "    --dataset_config_name $task \\\n",
        "    --cache_dir $cache_dir \\\n",
        "    --do_train \\\n",
        "    --do_eval \\\n",
        "    --do_predict \\\n",
        "    --per_device_train_batch_size 12 \\\n",
        "    --learning_rate 3e-5 \\\n",
        "    --num_train_epochs 3 \\\n",
        "    --max_seq_length 384 \\\n",
        "    --doc_stride 128 \\\n",
        "    --output_dir $output_dir \\\n",
        "    --seed $seed #--overwrite_output_dir"
      ],
      "metadata": {
        "id": "9JyDEfeLCORe"
      },
      "execution_count": null,
      "outputs": []
    }
  ]
}
