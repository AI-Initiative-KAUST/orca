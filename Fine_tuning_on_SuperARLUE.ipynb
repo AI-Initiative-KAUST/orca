{
  "nbformat": 4,
  "nbformat_minor": 0,
  "metadata": {
    "colab": {
      "name": "Fine-tuning on SuperARLUE.ipynb",
      "provenance": [],
      "collapsed_sections": []
    },
    "kernelspec": {
      "name": "python3",
      "display_name": "Python 3"
    },
    "language_info": {
      "name": "python"
    },
    "accelerator": "TPU",
    "gpuClass": "standard"
  },
  "cells": [
    {
      "cell_type": "markdown",
      "source": [
        "#Fin-tunig a model on SuperARLUE\n",
        "<img src=\"https://superarlue.dlnlp.ai/assets/superARLUE_logo.png\" width=\"50%\"/>\n",
        "\n",
        "**SuperARLUE** is a large-scale Arabic Language Understanding Evaluation Benchmark\n",
        "\n",
        "**Website:** https://superarlue.dlnlp.ai/ "
      ],
      "metadata": {
        "id": "NTY1Uq9FGzeJ"
      }
    },
    {
      "cell_type": "markdown",
      "source": [
        "## Intordction\n",
        "SuperARLUE has 29 tasks that can categorze into three types. Token-level, Text- Cassificaion and Question Answering traniers. In this notebook, we show how to use these trainiers. As examples, we fine-tune `MARBERTv2` on SuperARLUE's tasks for ONLY 3 epochs as well."
      ],
      "metadata": {
        "id": "tfdQOSseIS-8"
      }
    },
    {
      "cell_type": "markdown",
      "source": [
        "##Install Requirments"
      ],
      "metadata": {
        "id": "kVszmWE7IwK5"
      }
    },
    {
      "cell_type": "code",
      "source": [
        "!pip install datasets transformers seqeval"
      ],
      "metadata": {
        "id": "XlSBq8uvIvV9"
      },
      "execution_count": null,
      "outputs": []
    },
    {
      "cell_type": "markdown",
      "source": [
        "## Download the fine-tuning code"
      ],
      "metadata": {
        "id": "VdALDM6eT8IU"
      }
    },
    {
      "cell_type": "code",
      "source": [
        "!git clone https://github.com/UBC-NLP/superarlue.git"
      ],
      "metadata": {
        "id": "IDzbJGynT64C"
      },
      "execution_count": null,
      "outputs": []
    },
    {
      "cell_type": "code",
      "source": [
        "%cd /content/superarlue/fine-tuning_code"
      ],
      "metadata": {
        "id": "T6gOH325aEfg"
      },
      "execution_count": null,
      "outputs": []
    },
    {
      "cell_type": "markdown",
      "source": [
        "## Fine-tuning a model on token-level taks\n",
        "SuperARLUE has 4 token-level datasets, they are `arnercorp-ner`, `aqmar-ner`, `pos-xglue`, and `pos-dialect` "
      ],
      "metadata": {
        "id": "nnwffR0WKGUU"
      }
    },
    {
      "cell_type": "code",
      "source": [
        "task='arnercorp-ner' #task should be on of these tasks ['arnercorp-ner', 'aqmar-ner, pos-xglue', ' pos-dialect']\n",
        "cache_dir='./cache'\n",
        "le=5e-5\n",
        "batch_size=32\n",
        "model_name='UBC-NLP/MARBERTv2'\n",
        "output_dir='./output/'+task\n",
        "epochs_num=3\n",
        "metric_for_best_model=\"eval_f1\"\n",
        "seed=41\n"
      ],
      "metadata": {
        "id": "xyTBOJ3XCKA6"
      },
      "execution_count": 7,
      "outputs": []
    },
    {
      "cell_type": "code",
      "source": [
        "!python run_superarlue_tokens_trainer.py \\\n",
        "        --dataset_name \"UBC-NLP/super_arlue\" \\\n",
        "        --dataset_config_name $task \\\n",
        "        --cache_dir $cache_dir \\\n",
        "        --learning_rate $le \\\n",
        "        --per_device_train_batch_size $batch_size --per_device_eval_batch_size $batch_size \\\n",
        "        --model_name_or_path  $model_name \\\n",
        "        --output_dir $output_dir \\\n",
        "        --num_train_epochs $epochs_num \\\n",
        "        --do_train \\\n",
        "        --do_eval \\\n",
        "        --do_predict \\\n",
        "        --evaluation_strategy epoch --logging_strategy epoch --save_strategy epoch \\\n",
        "        --load_best_model_at_end --metric_for_best_model $metric_for_best_model --greater_is_better True \\\n",
        "        --save_total_limit 3 --seed $seed #--overwrite_output_dir"
      ],
      "metadata": {
        "id": "r7ptuORcM36h"
      },
      "execution_count": null,
      "outputs": []
    },
    {
      "cell_type": "markdown",
      "source": [
        "## Fine-tuning a model on text classification taks\n",
        "SuperARLUE has 24 token-level datasets, they are \n",
        "`sentiment-light`, `dialect-light-region`, `dialect-light-binary`, `dialect-light-country`, `topic-light`, `ans-claim-light`, `arnews-light`, `age-light`, `gender-light`, `adult-light`, `dang-light`, `aranet-emotion-light`, `hs-osact4-light`, `offensive-osact4-light`, `irony-light`, `sarcasm-light`, `abusive`, `wsd-light`, `mq2q-light`, `ans-stance-light`, `baly-stance-light`, `xlni`, `STS-semeval2017`, and `emotion-semeval2018-reg`"
      ],
      "metadata": {
        "id": "xDzBuWs9Se6s"
      }
    },
    {
      "cell_type": "code",
      "source": [
        "task='sentiment-light' #task should be on of these tasks ['sentiment-light', 'dialect-light-region', 'dialect-light-binary', 'dialect-light-country', 'topic-light', 'ans-claim-light', 'arnews-light', 'age-light', 'gender-light', 'adult-light', 'dang-light', 'aranet-emotion-light', 'hs-osact4-light', 'offensive-osact4-light', 'irony-light', 'sarcasm-light', 'abusive', 'wsd-light', 'mq2q-light', 'ans-stance-light', 'baly-stance-light', 'xlni', 'STS-semeval2017', 'emotion-semeval2018-reg']\n",
        "cache_dir='./cache'\n",
        "le=5e-5\n",
        "batch_size=32\n",
        "model_name='UBC-NLP/MARBERTv2'\n",
        "output_dir='./output/'+task\n",
        "epochs_num=3\n",
        "metric_for_best_model=\"eval_f1\" # eval_spearmanr is the evaluation matric for these tasks ['STS-semeval2017', 'emotion-semeval2018-reg'], and eval_f1 for the rest.\n",
        "seed=41\n",
        "sq=512"
      ],
      "metadata": {
        "id": "cPtUWJrLYv4N"
      },
      "execution_count": 12,
      "outputs": []
    },
    {
      "cell_type": "code",
      "source": [
        "!python run_arlu_text_classification_wz_reg.py \\\n",
        "        --dataset_name \"UBC-NLP/super_arlue\" \\\n",
        "        --task_name $task \\\n",
        "        --cache_dir $cache_dir \\\n",
        "        --learning_rate $le \\\n",
        "        --per_device_train_batch_size $batch_size --per_device_eval_batch_size $batch_size \\\n",
        "        --model_name_or_path  $model_name \\\n",
        "        --output_dir $output_dir \\\n",
        "        --num_train_epochs $epochs_num \\\n",
        "        --do_train \\\n",
        "        --do_eval \\\n",
        "        --do_predict \\\n",
        "        --max_seq_length $sq \\\n",
        "        --evaluation_strategy epoch --logging_strategy epoch --save_strategy epoch \\\n",
        "        --load_best_model_at_end --metric_for_best_model $metric_for_best_model --greater_is_better True \\\n",
        "        --save_total_limit 3 --seed $seed #--overwrite_output_dir"
      ],
      "metadata": {
        "id": "70FNFWawCaoo"
      },
      "execution_count": null,
      "outputs": []
    },
    {
      "cell_type": "markdown",
      "source": [
        "## Fine-tuning a model on QA task\n",
        "SuperARLUE has one QA task `qa`"
      ],
      "metadata": {
        "id": "XtKFtiKZa59Z"
      }
    },
    {
      "cell_type": "code",
      "source": [
        "task='qa'\n",
        "cache_dir='./cache'\n",
        "le=5e-5\n",
        "model_name='UBC-NLP/MARBERTv2'\n",
        "output_dir='./output/'+task\n",
        "seed=41"
      ],
      "metadata": {
        "id": "njmiL6OCCei7"
      },
      "execution_count": 15,
      "outputs": []
    },
    {
      "cell_type": "code",
      "source": [
        "!python run_superarlue_qa.py \\\n",
        "    --model_name_or_path  $model_name \\\n",
        "    --dataset_name  \"UBC-NLP/super_arlue\" \\\n",
        "    --dataset_config_name $task \\\n",
        "    --cache_dir $cache_dir \\\n",
        "    --do_train \\\n",
        "    --do_eval \\\n",
        "    --do_predict \\\n",
        "    --per_device_train_batch_size 12 \\\n",
        "    --learning_rate 3e-5 \\\n",
        "    --num_train_epochs 3 \\\n",
        "    --max_seq_length 384 \\\n",
        "    --doc_stride 128 \\\n",
        "    --output_dir $output_dir \\\n",
        "    --seed $seed #--overwrite_output_dir"
      ],
      "metadata": {
        "id": "9JyDEfeLCORe"
      },
      "execution_count": null,
      "outputs": []
    }
  ]
}